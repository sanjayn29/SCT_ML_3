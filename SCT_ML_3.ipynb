{
 "cells": [
  {
   "cell_type": "code",
   "execution_count": 1,
   "id": "378870ff-c910-472a-aba0-cd115fb12a70",
   "metadata": {},
   "outputs": [],
   "source": [
    "import os\n",
    "import numpy as np\n",
    "import cv2\n",
    "from sklearn.model_selection import train_test_split\n",
    "from sklearn.svm import SVC\n",
    "from sklearn.metrics import accuracy_score, classification_report\n",
    "from sklearn.preprocessing import StandardScaler\n",
    "from tqdm import tqdm"
   ]
  },
  {
   "cell_type": "code",
   "execution_count": null,
   "id": "935dd467-aadf-4deb-81fe-403ddfcf47bc",
   "metadata": {},
   "outputs": [
    {
     "name": "stderr",
     "output_type": "stream",
     "text": [
      "Loading Images:   1%|▋                                                             | 256/25000 [00:03<05:38, 73.17it/s]"
     ]
    }
   ],
   "source": [
    "def load_data(image_dir, img_size=(64, 64)):\n",
    "    images = []\n",
    "    labels = []\n",
    "    \n",
    "    # Iterate through each image in the folder\n",
    "    for file in tqdm(os.listdir(image_dir), desc=\"Loading Images\"):\n",
    "        img_path = os.path.join(image_dir, file)\n",
    "        \n",
    "        # Check if it's an image file\n",
    "        if img_path.endswith(('.jpg', '.png', '.jpeg')):\n",
    "            # Read and preprocess image\n",
    "            img = cv2.imread(img_path)\n",
    "            if img is not None:\n",
    "                img = cv2.resize(img, img_size)  # Resize image\n",
    "                img = img.flatten()  # Flatten to 1D array\n",
    "                images.append(img)\n",
    "\n",
    "                # Label based on filename\n",
    "                if 'cat' in file.lower():\n",
    "                    labels.append(0)  # Cat = 0\n",
    "                elif 'dog' in file.lower():\n",
    "                    labels.append(1)  # Dog = 1\n",
    "\n",
    "    return np.array(images), np.array(labels)\n",
    "\n",
    "# Paths and parameters\n",
    "image_dir = r'C:\\Users\\sanja\\Downloads\\train\\train'  # Replace with your images folder path\n",
    "img_size = (64, 64)\n",
    "\n",
    "# Load dataset\n",
    "X, y = load_data(image_dir, img_size)"
   ]
  },
  {
   "cell_type": "code",
   "execution_count": null,
   "id": "adbc00ae-0ebe-4a4b-8b0b-3df5f0177703",
   "metadata": {},
   "outputs": [],
   "source": [
    "X_train, X_test, y_train, y_test = train_test_split(X, y, test_size=0.2, random_state=42)"
   ]
  },
  {
   "cell_type": "code",
   "execution_count": null,
   "id": "00b27137-d515-4174-b068-47619fe0a34b",
   "metadata": {},
   "outputs": [],
   "source": [
    "scaler = StandardScaler()\n",
    "X_train = scaler.fit_transform(X_train)\n",
    "X_test = scaler.transform(X_test)"
   ]
  },
  {
   "cell_type": "code",
   "execution_count": null,
   "id": "a05f21b8-277d-436c-bc51-9d7ade9a1915",
   "metadata": {},
   "outputs": [],
   "source": [
    "svm_model = SVC(kernel='linear', C=1.0, random_state=42)\n",
    "svm_model.fit(X_train, y_train)"
   ]
  },
  {
   "cell_type": "code",
   "execution_count": null,
   "id": "bf59d4c1-157d-46b2-958a-ffbe0487d772",
   "metadata": {},
   "outputs": [],
   "source": [
    "y_pred = svm_model.predict(X_test)"
   ]
  },
  {
   "cell_type": "code",
   "execution_count": null,
   "id": "50482837-40c5-401a-bd45-197c69ffce0f",
   "metadata": {},
   "outputs": [],
   "source": [
    "print(\"Accuracy:\", accuracy_score(y_test, y_pred))\n",
    "print(\"Classification Report:\\n\", classification_report(y_test, y_pred))"
   ]
  }
 ],
 "metadata": {
  "kernelspec": {
   "display_name": "Python 3 (ipykernel)",
   "language": "python",
   "name": "python3"
  },
  "language_info": {
   "codemirror_mode": {
    "name": "ipython",
    "version": 3
   },
   "file_extension": ".py",
   "mimetype": "text/x-python",
   "name": "python",
   "nbconvert_exporter": "python",
   "pygments_lexer": "ipython3",
   "version": "3.13.0"
  }
 },
 "nbformat": 4,
 "nbformat_minor": 5
}
